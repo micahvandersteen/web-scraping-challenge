{
 "cells": [
  {
   "cell_type": "code",
   "execution_count": 256,
   "metadata": {},
   "outputs": [],
   "source": [
    "### IMPORTING DEPENDENCIES ###\n",
    "import pymongo\n",
    "import datetime\n",
    "import pandas as pd\n",
    "from splinter import Browser\n",
    "from bs4 import BeautifulSoup as bs\n",
    "import time\n",
    "import requests\n",
    "import os\n",
    "from pprint import pprint\n",
    "from splinter.exceptions import ElementDoesNotExist"
   ]
  },
  {
   "cell_type": "code",
   "execution_count": 257,
   "metadata": {},
   "outputs": [
    {
     "name": "stdout",
     "output_type": "stream",
     "text": [
      "/usr/local/bin/chromedriver\n"
     ]
    }
   ],
   "source": [
    "!which chromedriver"
   ]
  },
  {
   "cell_type": "markdown",
   "metadata": {},
   "source": [
    "#################################################################\n",
    "### This section is meant to scrape the Nasa Mars News site to \n",
    "### collect the latest News Title and Paragraph Text \n",
    "### and save as variables for reference later \n",
    "#################################################################"
   ]
  },
  {
   "cell_type": "code",
   "execution_count": 259,
   "metadata": {},
   "outputs": [],
   "source": [
    "# specifying page url\n",
    "url = 'https://mars.nasa.gov/news/?page=0&per_page=40&order=publish_date+desc%2Ccreated_at+desc&search=&category=19%2C165%2C184%2C204&blank_scope=Latest'\n",
    "\n",
    "# initialize chrome browser and splinter\n",
    "executable_path = {'executable_path' : '/usr/local/bin/chromedriver'}\n",
    "browser = Browser('chrome', **executable_path)\n",
    "\n",
    "# visiting webpage\n",
    "browser.visit(url)\n",
    "\n",
    "# defining html\n",
    "html = browser.html\n",
    "\n",
    "# creating beautiful soup object\n",
    "soup = bs(html, 'html.parser')\n",
    "\n",
    "# getting the first element from the page\n",
    "element = soup.select_one('ul.item_list li.slide')\n",
    "\n",
    "# getting latest headline\n",
    "latest_headline = element.find(\"div\", class_ = \"content_title\").get_text()\n",
    "\n",
    "# getting latest description\n",
    "latest_description = element.find(\"div\", class_ = \"article_teaser_body\").get_text()\n",
    "\n",
    "# exit current splinter browser\n",
    "browser.quit()"
   ]
  },
  {
   "cell_type": "markdown",
   "metadata": {},
   "source": [
    "#################################################################\n",
    "### This section is meant to Use splinter to navigate the site \n",
    "### and find the image url for the current Featured Mars Image \n",
    "### and assign the url string to a variable 'featured_image_url'\n",
    "#################################################################"
   ]
  },
  {
   "cell_type": "code",
   "execution_count": 260,
   "metadata": {},
   "outputs": [],
   "source": [
    "# specifying page url\n",
    "url = 'https://www.jpl.nasa.gov/spaceimages/?search=&category=Mars'\n",
    "\n",
    "# initialize chrome browser and splinter\n",
    "executable_path = {'executable_path' : '/usr/local/bin/chromedriver'}\n",
    "browser = Browser('chrome', **executable_path)\n",
    "\n",
    "# visiting webpage\n",
    "browser.visit(url)\n",
    "\n",
    "# defining the button that takes to the full sized featured image\n",
    "full_image_button = browser.find_by_id('full_image')\n",
    "\n",
    "# clicking buttong to view featured image\n",
    "full_image_button.click()\n",
    "\n",
    "# defining button to click next; the 'more info' button on the page\n",
    "more_info_button = browser.find_by_text('more info     ')\n",
    "\n",
    "# clicking more info\n",
    "more_info_button.click()\n",
    "\n",
    "# finding/defining the full res .jpg link\n",
    "full_res_jpg_button = browser.links.find_by_partial_text('.jpg')\n",
    "\n",
    "# clicking the full res .jpg link (final navigation)\n",
    "full_res_jpg_button.click()\n",
    "\n",
    "# getting featured image url using splinter's browser.url\n",
    "featured_image_url = browser.url\n",
    "\n",
    "# exit current splinter browser\n",
    "browser.quit()"
   ]
  },
  {
   "cell_type": "markdown",
   "metadata": {},
   "source": [
    "#################################################################\n",
    "### This section is meant to visit the Mars Weather twitter \n",
    "### account and scrape the latest Mars weather tweet from \n",
    "### the page. Save the tweet text for the weather report as a \n",
    "### variable called 'mars_weather'\n",
    "#################################################################"
   ]
  },
  {
   "cell_type": "code",
   "execution_count": 261,
   "metadata": {},
   "outputs": [],
   "source": [
    "# specifying page url\n",
    "url = 'https://twitter.com/marswxreport?lang=en'\n",
    "\n",
    "# initialize chrome browser and splinter\n",
    "executable_path = {'executable_path' : '/usr/local/bin/chromedriver'}\n",
    "browser = Browser('chrome', **executable_path)\n",
    "\n",
    "# visiting webpage\n",
    "browser.visit(url)\n",
    "\n",
    "ispres = browser.is_element_present_by_id('accessible-list-0', wait_time = 10)\n",
    "\n",
    "# defining html\n",
    "html = browser.html\n",
    "\n",
    "# creating beautiful soup object\n",
    "soup = bs(html, 'html.parser')\n",
    "\n",
    "#### CHECK TOMORROW AND LATER TODAY AND TRY TO MAKE BETTER THIS IS ASS ######\n",
    "divs = soup.find_all('div')\n",
    "spans = []\n",
    "texts =[]\n",
    "for div in divs:\n",
    "    span = div.find('span')\n",
    "    if span != None:\n",
    "        text = span.text\n",
    "        if text != '':\n",
    "            texts.append(text)\n",
    "mars_weather = texts[85]\n",
    "\n",
    "# exit current splinter browser\n",
    "browser.quit()"
   ]
  },
  {
   "cell_type": "markdown",
   "metadata": {},
   "source": [
    "#################################################################\n",
    "### This next section of code is meant to visit the Mars Facts\n",
    "### webpage here and use Pandas to scrape the table containing \n",
    "### facts about the planet including Diameter, Mass, etc.\n",
    "#################################################################"
   ]
  },
  {
   "cell_type": "code",
   "execution_count": 263,
   "metadata": {},
   "outputs": [],
   "source": [
    "# specifying page url\n",
    "url = 'https://space-facts.com/mars/'\n",
    "\n",
    "# initialize chrome browser and splinter\n",
    "executable_path = {'executable_path' : '/usr/local/bin/chromedriver'}\n",
    "browser = Browser('chrome', **executable_path)\n",
    "\n",
    "# visiting webpage\n",
    "browser.visit(url)\n",
    "\n",
    "# defining html\n",
    "html = browser.html\n",
    "\n",
    "# creating the soup\n",
    "soup = bs(html, 'html.parser')\n",
    "\n",
    "# finding/defining table I want to scrape\n",
    "scraped_table = soup.find_all('table')[0]\n",
    "\n",
    "# creating pandas dataframe from html\n",
    "mars_facts_df = pd.read_html(str(scraped_table))\n",
    "\n",
    "# exit current splinter browser\n",
    "browser.quit()"
   ]
  },
  {
   "cell_type": "markdown",
   "metadata": {},
   "source": [
    "############################################################\n",
    "### This next section of code is meant to Visit the USGS \n",
    "### Astrogeology site here to obtain high resolution images \n",
    "### for each of Mars' hemispheres.\n",
    "############################################################"
   ]
  },
  {
   "cell_type": "code",
   "execution_count": 264,
   "metadata": {},
   "outputs": [],
   "source": [
    "# defining url\n",
    "url = 'https://astrogeology.usgs.gov/search/results?q=hemisphere+enhanced&k1=target&v1=Mars'\n",
    "\n",
    "# initialize chrome browser and splinter\n",
    "executable_path = {'executable_path' : '/usr/local/bin/chromedriver'}\n",
    "browser = Browser('chrome', **executable_path)\n",
    "\n",
    "# visiting webpage\n",
    "browser.visit(url)\n",
    "\n",
    "# establish html\n",
    "html = browser.html\n",
    "    \n",
    "# create soup\n",
    "soup = bs(html, 'html.parser')\n",
    "\n",
    "# finding hemisphere items using beautiful soup, then\n",
    "# looping through items to get each hemisphere title in a list\n",
    "# called 'mars_hemispheres'\n",
    "mars_hemisphere_items = soup.find_all('div', class_='item')\n",
    "mars_hemisphere_titles = []\n",
    "\n",
    "for item in mars_hemisphere_items:\n",
    "    mars_hemisphere_titles.append(item.h3.text)\n",
    "\n",
    "# exit active browser\n",
    "browser.quit()\n",
    "\n",
    "# initializing hemisphere urls list and dictionary to hold info\n",
    "hemisphere_img_urls = []\n",
    "mars_dict = {}\n",
    "\n",
    "# for loop to get desired info from each mars hemisphere link\n",
    "for hemisphere in mars_hemisphere_titles:\n",
    "    \n",
    "    # establish new splinter browser\n",
    "    executable_path = {'executable_path' : '/usr/local/bin/chromedriver'}\n",
    "    browser = Browser('chrome', **executable_path)\n",
    "\n",
    "    # visiting webpage\n",
    "    browser.visit(url)\n",
    "    \n",
    "    # finds and clicks desired link\n",
    "    browser.links.find_by_partial_text(hemisphere).click()\n",
    "    \n",
    "    # establish html\n",
    "    html = browser.html\n",
    "    \n",
    "    # create soup\n",
    "    soup = bs(html, 'html.parser')\n",
    "    \n",
    "    # gets full resolution image url\n",
    "    img_url = soup.find('ul').li.a['href']\n",
    "    \n",
    "    # creates dictionary item for final list\n",
    "    mars_dict = {'title' : hemisphere,\n",
    "                 'img_url' : img_url}\n",
    "    \n",
    "    # appends aforementioned dictionary to list\n",
    "    hemisphere_img_urls.append(mars_dict)\n",
    "       \n",
    "    # exit current splinter browser\n",
    "    browser.quit()"
   ]
  },
  {
   "cell_type": "code",
   "execution_count": 269,
   "metadata": {},
   "outputs": [
    {
     "name": "stdout",
     "output_type": "stream",
     "text": [
      "[NbConvertApp] Converting notebook mission_to_mars.ipynb to script\n",
      "[NbConvertApp] Writing 7216 bytes to mission_to_mars.py\n"
     ]
    }
   ],
   "source": [
    "### converting notebook to scrape_mars.py file\n",
    "### NEEDS TO CHANGE FILE NAME\n",
    "!jupyter nbconvert --to script mission_to_mars.ipynb>scrape_mars.py"
   ]
  }
 ],
 "metadata": {
  "kernelspec": {
   "display_name": "Python 3",
   "language": "python",
   "name": "python3"
  },
  "language_info": {
   "codemirror_mode": {
    "name": "ipython",
    "version": 3
   },
   "file_extension": ".py",
   "mimetype": "text/x-python",
   "name": "python",
   "nbconvert_exporter": "python",
   "pygments_lexer": "ipython3",
   "version": "3.6.9"
  }
 },
 "nbformat": 4,
 "nbformat_minor": 4
}
